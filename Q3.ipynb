{
 "cells": [
  {
   "cell_type": "code",
   "execution_count": 1,
   "id": "25454f55",
   "metadata": {},
   "outputs": [],
   "source": [
    "import math\n",
    "import os\n",
    "import random\n",
    "import re\n",
    "import sys\n",
    "\n"
   ]
  },
  {
   "cell_type": "code",
   "execution_count": 14,
   "id": "31e21280",
   "metadata": {},
   "outputs": [],
   "source": [
    "def portfolio_profit_maximisation(maxSum, a, b):\n",
    "    result = 0\n",
    "    for i in range (min(len(a),len(b))):\n",
    "        if maxSum > a[i]:\n",
    "            result +=1\n",
    "            maxSum -= a[i]\n",
    "            if maxSum > b[i]:\n",
    "                result +=1\n",
    "                maxSum -= b[i]\n",
    "    for j in range(max(len(a),len(b)) - min(len(a),len(b))):\n",
    "        jj = j + min(len(a),len(b))\n",
    "        if (len(a) > len(b)):\n",
    "            if maxSum > a[jj]:\n",
    "                result +=1\n",
    "                maxSum -= a[jj]\n",
    "        else:\n",
    "            if maxSum > b[jj]:\n",
    "                result +=1\n",
    "                maxSum -= b[jj]\n",
    "    return result"
   ]
  },
  {
   "cell_type": "code",
   "execution_count": 16,
   "id": "09777a1f",
   "metadata": {},
   "outputs": [
    {
     "name": "stdout",
     "output_type": "stream",
     "text": [
      "3 7 3696\n",
      "12 21 102\n",
      "167 244 377 56 235 269 23\n",
      "10\n"
     ]
    }
   ],
   "source": [
    "    first_multiple_input = input().rstrip().split()\n",
    "\n",
    "    n = int(first_multiple_input[0])\n",
    "\n",
    "    m = int(first_multiple_input[1])\n",
    "\n",
    "    maxSum = int(first_multiple_input[2])\n",
    "\n",
    "    a = list(map(int, input().rstrip().split()))\n",
    "\n",
    "    b = list(map(int, input().rstrip().split()))\n",
    "\n",
    "    result = portfolio_profit_maximisation(maxSum, a, b)\n",
    "\n",
    "    print(result)"
   ]
  },
  {
   "cell_type": "code",
   "execution_count": 8,
   "id": "266ab08e",
   "metadata": {},
   "outputs": [
    {
     "data": {
      "text/plain": [
       "5"
      ]
     },
     "execution_count": 8,
     "metadata": {},
     "output_type": "execute_result"
    }
   ],
   "source": [
    "max(len(a),len(b))"
   ]
  },
  {
   "cell_type": "code",
   "execution_count": 10,
   "id": "6666b134",
   "metadata": {},
   "outputs": [
    {
     "name": "stdout",
     "output_type": "stream",
     "text": [
      "0\n",
      "1\n",
      "2\n",
      "3\n",
      "4\n"
     ]
    }
   ],
   "source": [
    "for i in range(5):\n",
    "    print(i)"
   ]
  },
  {
   "cell_type": "raw",
   "id": "5271de1a",
   "metadata": {},
   "source": []
  },
  {
   "cell_type": "code",
   "execution_count": null,
   "id": "1962ca4f",
   "metadata": {},
   "outputs": [],
   "source": [
    "5 4 10\n",
    " 4 2 4 6 1\n",
    " 2 1 8 5\n",
    "=> 4"
   ]
  },
  {
   "cell_type": "code",
   "execution_count": null,
   "id": "60522fd7",
   "metadata": {},
   "outputs": [],
   "source": [
    "3 7 3696\n",
    "12 21 102\n",
    "167 244 377 56 235 269 23\n",
    "=> 10"
   ]
  }
 ],
 "metadata": {
  "kernelspec": {
   "display_name": "Python 3 (ipykernel)",
   "language": "python",
   "name": "python3"
  },
  "language_info": {
   "codemirror_mode": {
    "name": "ipython",
    "version": 3
   },
   "file_extension": ".py",
   "mimetype": "text/x-python",
   "name": "python",
   "nbconvert_exporter": "python",
   "pygments_lexer": "ipython3",
   "version": "3.7.6"
  }
 },
 "nbformat": 4,
 "nbformat_minor": 5
}
