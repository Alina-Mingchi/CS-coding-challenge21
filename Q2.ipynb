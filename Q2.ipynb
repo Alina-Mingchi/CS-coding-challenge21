{
 "cells": [
  {
   "cell_type": "code",
   "execution_count": 4,
   "id": "6d500ae6",
   "metadata": {},
   "outputs": [],
   "source": []
  },
  {
   "cell_type": "code",
   "execution_count": null,
   "id": "0aa4fa60",
   "metadata": {},
   "outputs": [],
   "source": [
    "def totalPairs(n, values):\n",
    "    # Participants code will be here\n",
    "    pairs = n-1\n",
    "\n",
    "    copy = values.copy()\n",
    "    index_min = []\n",
    "    temp = 0\n",
    "    for i in range(n):\n",
    "        index_value = values.index(min(copy))\n",
    "        index_min.append(index_value)\n",
    "        copy.remove(min(copy))\n",
    "    count = 0\n",
    "    for j in range(n-1):\n",
    "        if (values[j]<values[j+1]):\n",
    "            count +=1\n",
    "    if (index_min[0] == 0):\n",
    "        count -=1\n",
    "    pairs += count\n",
    "    \n",
    "    return pairs"
   ]
  },
  {
   "cell_type": "code",
   "execution_count": 43,
   "id": "23c9755b",
   "metadata": {},
   "outputs": [],
   "source": [
    "def securitiesBuying(z, security_value):\n",
    "    no_of_stocks=0\n",
    "   #participants code here\n",
    "    price = []\n",
    "    copy = []\n",
    "    for i in range(len(security_value)):\n",
    "        price.append(int(security_value[i]))  \n",
    "        copy.append(int(security_value[i]))  \n",
    "\n",
    "    z = int(z[0])\n",
    "    \n",
    "    while ((z >= 0)&(copy!=[])):\n",
    "        mini_index = price.index(min(copy))\n",
    "        day = mini_index+1\n",
    "        if (z >= (min(copy) * day)):\n",
    "            no_of_stocks += day\n",
    "            z -= min(copy)*day\n",
    "        else:\n",
    "            no_of_stocks += z//min(copy)\n",
    "            z -= z//min(copy) * min(copy)\n",
    "        copy.remove(min(copy))    \n",
    "\n",
    "                \n",
    "    return no_of_stocks;\n"
   ]
  },
  {
   "cell_type": "code",
   "execution_count": 44,
   "id": "6351582b",
   "metadata": {},
   "outputs": [
    {
     "name": "stdout",
     "output_type": "stream",
     "text": [
      "45\n",
      "10 7 19\n",
      "4\n"
     ]
    }
   ],
   "source": [
    "\n",
    "    z= input().split()\n",
    "    security_value = []\n",
    "    security_value = input().split()\n",
    "    no_of_stocks_purchased=securitiesBuying(z,security_value)\n",
    "    print(no_of_stocks_purchased)"
   ]
  },
  {
   "cell_type": "code",
   "execution_count": 32,
   "id": "a6ea6ebe",
   "metadata": {},
   "outputs": [],
   "source": [
    "    no_of_stocks=0\n",
    "   #participants code here\n",
    "    price = []\n",
    "    copy = []\n",
    "    for i in range(len(security_value)):\n",
    "        price.append(int(security_value[i]))  \n",
    "        copy.append(int(security_value[i]))  "
   ]
  },
  {
   "cell_type": "code",
   "execution_count": 33,
   "id": "524354ef",
   "metadata": {},
   "outputs": [
    {
     "data": {
      "text/plain": [
       "[10, 7, 19]"
      ]
     },
     "execution_count": 33,
     "metadata": {},
     "output_type": "execute_result"
    }
   ],
   "source": [
    "price"
   ]
  },
  {
   "cell_type": "code",
   "execution_count": 34,
   "id": "5690a5a7",
   "metadata": {},
   "outputs": [
    {
     "data": {
      "text/plain": [
       "[10, 7, 19]"
      ]
     },
     "execution_count": 34,
     "metadata": {},
     "output_type": "execute_result"
    }
   ],
   "source": [
    "copy"
   ]
  },
  {
   "cell_type": "code",
   "execution_count": 35,
   "id": "46d86a28",
   "metadata": {},
   "outputs": [
    {
     "data": {
      "text/plain": [
       "7"
      ]
     },
     "execution_count": 35,
     "metadata": {},
     "output_type": "execute_result"
    }
   ],
   "source": [
    "min(copy)"
   ]
  },
  {
   "cell_type": "code",
   "execution_count": null,
   "id": "229b61bc",
   "metadata": {},
   "outputs": [],
   "source": [
    "copy"
   ]
  },
  {
   "cell_type": "code",
   "execution_count": null,
   "id": "afd75440",
   "metadata": {},
   "outputs": [],
   "source": [
    "z"
   ]
  },
  {
   "cell_type": "code",
   "execution_count": null,
   "id": "c0701395",
   "metadata": {},
   "outputs": [],
   "source": [
    "        mini = min(copy)\n",
    "        mini_index = sec_val.index(mini)\n",
    "        day = mini_index+1\n",
    "        if (z >= (mini * day)):\n",
    "            no_of_stocks += day\n",
    "            z -= mini*day\n",
    "        else:\n",
    "            no_of_stocks += z//mini\n",
    "            z -= z//mini * mini\n",
    "        copy.remove(mini)    "
   ]
  },
  {
   "cell_type": "code",
   "execution_count": null,
   "id": "c51a2bba",
   "metadata": {},
   "outputs": [],
   "source": [
    "45\n",
    "10 7 19\n",
    "->4"
   ]
  },
  {
   "cell_type": "code",
   "execution_count": null,
   "id": "875c483c",
   "metadata": {},
   "outputs": [],
   "source": [
    "64\n",
    "17 24 7 45 15 14 37 40 8 23 27 17\n",
    "->8"
   ]
  },
  {
   "cell_type": "code",
   "execution_count": null,
   "id": "6d647de5",
   "metadata": {},
   "outputs": [],
   "source": [
    "\n",
    "# def securitiesBuying(z, security_value):\n",
    "#     no_of_stocks=0\n",
    "#    #participants code here\n",
    "#     sum_per_day = []\n",
    "#     for i in range(len(security_value)):\n",
    "#         sum_per_day.append((i+1)*int(security_value[i]))\n",
    "    \n",
    "#     for j in range(len(sum_per_day)):\n",
    "#         day = j+1\n",
    "#         if (sum(sum_per_day[:(day)]) < int(z[0])): \n",
    "#             no_of_stocks += day\n",
    "#         # else:\n",
    "#             # no_of_stocks += (int(z[0])-sum(sum_per_day[:j]))//int(security_value[j])\n",
    "#             # break;\n",
    "                \n",
    "#     return no_of_stocks;\n"
   ]
  }
 ],
 "metadata": {
  "kernelspec": {
   "display_name": "Python 3 (ipykernel)",
   "language": "python",
   "name": "python3"
  },
  "language_info": {
   "codemirror_mode": {
    "name": "ipython",
    "version": 3
   },
   "file_extension": ".py",
   "mimetype": "text/x-python",
   "name": "python",
   "nbconvert_exporter": "python",
   "pygments_lexer": "ipython3",
   "version": "3.7.6"
  }
 },
 "nbformat": 4,
 "nbformat_minor": 5
}
